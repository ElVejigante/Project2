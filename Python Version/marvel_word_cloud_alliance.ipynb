{
 "metadata": {
  "language_info": {
   "codemirror_mode": {
    "name": "ipython",
    "version": 3
   },
   "file_extension": ".py",
   "mimetype": "text/x-python",
   "name": "python",
   "nbconvert_exporter": "python",
   "pygments_lexer": "ipython3",
   "version": "3.8.5"
  },
  "orig_nbformat": 2,
  "kernelspec": {
   "name": "python385jvsc74a57bd0dca0ade3e726a953b501b15e8e990130d2b7799f14cfd9f4271676035ebe5511",
   "display_name": "Python 3.8.5 64-bit ('base': conda)"
  }
 },
 "nbformat": 4,
 "nbformat_minor": 2,
 "cells": [
  {
   "cell_type": "code",
   "execution_count": 36,
   "metadata": {},
   "outputs": [],
   "source": [
    "#Essential libraries\n",
    "import pandas as pd\n",
    "from wordcloud import WordCloud\n",
    "from nltk.tokenize import word_tokenize #nltk = natural language toolkit for separating words\n",
    "from nltk.corpus import stopwords #for removing stopwords (words of no value like articles and prepositions)\n",
    "from nltk.stem import WordNetLemmatizer #groups together inflected forms of a word\n",
    "import matplotlib.pyplot as plt #to display wordcloud\n",
    "from PIL import Image #Pillow library to load image\n",
    "import numpy as np #to get image color\n",
    "import time\n"
   ]
  },
  {
   "cell_type": "code",
   "execution_count": 37,
   "metadata": {},
   "outputs": [],
   "source": [
    "#Store filepath in a variable\n",
    "resource_data = \"../Resources/Data/Marvel_US_ITTEM.csv\""
   ]
  },
  {
   "cell_type": "code",
   "execution_count": 38,
   "metadata": {},
   "outputs": [
    {
     "output_type": "execute_result",
     "data": {
      "text/plain": [
       "  ALIGNMENT                          BIRTHPLACE CITIZENSHIP          CODENAME  \\\n",
       "0      Good     Queens, New York City, New York    American        Spider-Man   \n",
       "1      Good  Manhattan, New York City, New York    American   Captain America   \n",
       "2      Good            Central City, California    American  Mister Fantastic   \n",
       "3      Good    Glenville, Long Island, New York    American       Human Torch   \n",
       "4      Good    Glenville, Long Island, New York    American   Invisible Woman   \n",
       "\n",
       "          City                                      DETAILED FILE  DURABILITY  \\\n",
       "0     Flushing  https://marvel.fandom.com/wiki/Peter_Parker_(E...           3   \n",
       "1     New York  https://marvel.fandom.com/wiki/Captain_America...           3   \n",
       "2   Clarksburg  https://marvel.fandom.com/wiki/Reed_Richards_(...           5   \n",
       "3  Schenectady  https://marvel.fandom.com/wiki/Jonathan_Storm_...           8   \n",
       "4  Schenectady  https://marvel.fandom.com/wiki/Susan_Storm_(Ea...           6   \n",
       "\n",
       "                                           EDUCATION  ENERGY  \\\n",
       "0                      High school; coursing college       1   \n",
       "1  High school graduate; one year of art school; ...       1   \n",
       "2  Reed attended such prestigious universities su...       1   \n",
       "3  Glenville High graduate; former student at Emp...       5   \n",
       "4  Doctorate in unrevealed field; high school edu...       5   \n",
       "\n",
       "                                          EXPERIENCE  ...  \\\n",
       "0  Adventurer; inventor; photographer; teaching a...  ...   \n",
       "1  Adventurer; federal official; intelligence ope...  ...   \n",
       "2             Scientist; adventurer; ;  cosmic being  ...   \n",
       "3  Adventurer; firefighter; Chief Financial Offic...  ...   \n",
       "4  Adventurer; Regent of the Uhari throne at The ...  ...   \n",
       "\n",
       "                                         PROFILE PIC  \\\n",
       "0  https://static.wikia.nocookie.net/marveldataba...   \n",
       "1  https://static.wikia.nocookie.net/marveldataba...   \n",
       "2  https://static.wikia.nocookie.net/marveldataba...   \n",
       "3  https://static.wikia.nocookie.net/marveldataba...   \n",
       "4  https://static.wikia.nocookie.net/marveldataba...   \n",
       "\n",
       "                                REAL NAME  RELATIONSHIP STATUS SPEED STRENGTH  \\\n",
       "0                   Peter Benjamin Parker               Single     3        4   \n",
       "1                   Steven \"Steve\" Rogers               Single     2        3   \n",
       "2                       Dr. Reed Richards              Married     2        2   \n",
       "3  Jonathan Lowell Spencer \"Johnny\" Storm             Divorced     5        2   \n",
       "4          Dr. Susan \"Sue\" Storm Richards              Married     3        2   \n",
       "\n",
       "   State            TARGET  WEIGHT  Zip Code  \\\n",
       "0     NY       Spider-Man    167.0     11358   \n",
       "1     NY  Captain America    240.0     10155   \n",
       "2     CA     Reed Richards   180.0     95612   \n",
       "3     NY    Jonathan Storm   170.0     12302   \n",
       "4     NY       Susan Storm   120.0     12302   \n",
       "\n",
       "                                    _id  \n",
       "0  {'$oid': '60ba7853eb3d706d33244c7e'}  \n",
       "1  {'$oid': '60ba7853eb3d706d33244c7f'}  \n",
       "2  {'$oid': '60ba7853eb3d706d33244c81'}  \n",
       "3  {'$oid': '60ba7853eb3d706d33244c82'}  \n",
       "4  {'$oid': '60ba7853eb3d706d33244c83'}  \n",
       "\n",
       "[5 rows x 31 columns]"
      ],
      "text/html": "<div>\n<style scoped>\n    .dataframe tbody tr th:only-of-type {\n        vertical-align: middle;\n    }\n\n    .dataframe tbody tr th {\n        vertical-align: top;\n    }\n\n    .dataframe thead th {\n        text-align: right;\n    }\n</style>\n<table border=\"1\" class=\"dataframe\">\n  <thead>\n    <tr style=\"text-align: right;\">\n      <th></th>\n      <th>ALIGNMENT</th>\n      <th>BIRTHPLACE</th>\n      <th>CITIZENSHIP</th>\n      <th>CODENAME</th>\n      <th>City</th>\n      <th>DETAILED FILE</th>\n      <th>DURABILITY</th>\n      <th>EDUCATION</th>\n      <th>ENERGY</th>\n      <th>EXPERIENCE</th>\n      <th>...</th>\n      <th>PROFILE PIC</th>\n      <th>REAL NAME</th>\n      <th>RELATIONSHIP STATUS</th>\n      <th>SPEED</th>\n      <th>STRENGTH</th>\n      <th>State</th>\n      <th>TARGET</th>\n      <th>WEIGHT</th>\n      <th>Zip Code</th>\n      <th>_id</th>\n    </tr>\n  </thead>\n  <tbody>\n    <tr>\n      <th>0</th>\n      <td>Good</td>\n      <td>Queens, New York City, New York</td>\n      <td>American</td>\n      <td>Spider-Man</td>\n      <td>Flushing</td>\n      <td>https://marvel.fandom.com/wiki/Peter_Parker_(E...</td>\n      <td>3</td>\n      <td>High school; coursing college</td>\n      <td>1</td>\n      <td>Adventurer; inventor; photographer; teaching a...</td>\n      <td>...</td>\n      <td>https://static.wikia.nocookie.net/marveldataba...</td>\n      <td>Peter Benjamin Parker</td>\n      <td>Single</td>\n      <td>3</td>\n      <td>4</td>\n      <td>NY</td>\n      <td>Spider-Man</td>\n      <td>167.0</td>\n      <td>11358</td>\n      <td>{'$oid': '60ba7853eb3d706d33244c7e'}</td>\n    </tr>\n    <tr>\n      <th>1</th>\n      <td>Good</td>\n      <td>Manhattan, New York City, New York</td>\n      <td>American</td>\n      <td>Captain America</td>\n      <td>New York</td>\n      <td>https://marvel.fandom.com/wiki/Captain_America...</td>\n      <td>3</td>\n      <td>High school graduate; one year of art school; ...</td>\n      <td>1</td>\n      <td>Adventurer; federal official; intelligence ope...</td>\n      <td>...</td>\n      <td>https://static.wikia.nocookie.net/marveldataba...</td>\n      <td>Steven \"Steve\" Rogers</td>\n      <td>Single</td>\n      <td>2</td>\n      <td>3</td>\n      <td>NY</td>\n      <td>Captain America</td>\n      <td>240.0</td>\n      <td>10155</td>\n      <td>{'$oid': '60ba7853eb3d706d33244c7f'}</td>\n    </tr>\n    <tr>\n      <th>2</th>\n      <td>Good</td>\n      <td>Central City, California</td>\n      <td>American</td>\n      <td>Mister Fantastic</td>\n      <td>Clarksburg</td>\n      <td>https://marvel.fandom.com/wiki/Reed_Richards_(...</td>\n      <td>5</td>\n      <td>Reed attended such prestigious universities su...</td>\n      <td>1</td>\n      <td>Scientist; adventurer; ;  cosmic being</td>\n      <td>...</td>\n      <td>https://static.wikia.nocookie.net/marveldataba...</td>\n      <td>Dr. Reed Richards</td>\n      <td>Married</td>\n      <td>2</td>\n      <td>2</td>\n      <td>CA</td>\n      <td>Reed Richards</td>\n      <td>180.0</td>\n      <td>95612</td>\n      <td>{'$oid': '60ba7853eb3d706d33244c81'}</td>\n    </tr>\n    <tr>\n      <th>3</th>\n      <td>Good</td>\n      <td>Glenville, Long Island, New York</td>\n      <td>American</td>\n      <td>Human Torch</td>\n      <td>Schenectady</td>\n      <td>https://marvel.fandom.com/wiki/Jonathan_Storm_...</td>\n      <td>8</td>\n      <td>Glenville High graduate; former student at Emp...</td>\n      <td>5</td>\n      <td>Adventurer; firefighter; Chief Financial Offic...</td>\n      <td>...</td>\n      <td>https://static.wikia.nocookie.net/marveldataba...</td>\n      <td>Jonathan Lowell Spencer \"Johnny\" Storm</td>\n      <td>Divorced</td>\n      <td>5</td>\n      <td>2</td>\n      <td>NY</td>\n      <td>Jonathan Storm</td>\n      <td>170.0</td>\n      <td>12302</td>\n      <td>{'$oid': '60ba7853eb3d706d33244c82'}</td>\n    </tr>\n    <tr>\n      <th>4</th>\n      <td>Good</td>\n      <td>Glenville, Long Island, New York</td>\n      <td>American</td>\n      <td>Invisible Woman</td>\n      <td>Schenectady</td>\n      <td>https://marvel.fandom.com/wiki/Susan_Storm_(Ea...</td>\n      <td>6</td>\n      <td>Doctorate in unrevealed field; high school edu...</td>\n      <td>5</td>\n      <td>Adventurer; Regent of the Uhari throne at The ...</td>\n      <td>...</td>\n      <td>https://static.wikia.nocookie.net/marveldataba...</td>\n      <td>Dr. Susan \"Sue\" Storm Richards</td>\n      <td>Married</td>\n      <td>3</td>\n      <td>2</td>\n      <td>NY</td>\n      <td>Susan Storm</td>\n      <td>120.0</td>\n      <td>12302</td>\n      <td>{'$oid': '60ba7853eb3d706d33244c83'}</td>\n    </tr>\n  </tbody>\n</table>\n<p>5 rows × 31 columns</p>\n</div>"
     },
     "metadata": {},
     "execution_count": 38
    }
   ],
   "source": [
    "df = pd.read_csv(resource_data)\n",
    "df.head()"
   ]
  },
  {
   "cell_type": "code",
   "execution_count": 39,
   "metadata": {},
   "outputs": [
    {
     "output_type": "execute_result",
     "data": {
      "text/plain": [
       "             TARGET ALIGNMENT  \\\n",
       "0       Spider-Man       Good   \n",
       "1  Captain America       Good   \n",
       "2     Reed Richards      Good   \n",
       "3    Jonathan Storm      Good   \n",
       "4       Susan Storm      Good   \n",
       "\n",
       "                                          EXPERIENCE  \n",
       "0  Adventurer; inventor; photographer; teaching a...  \n",
       "1  Adventurer; federal official; intelligence ope...  \n",
       "2             Scientist; adventurer; ;  cosmic being  \n",
       "3  Adventurer; firefighter; Chief Financial Offic...  \n",
       "4  Adventurer; Regent of the Uhari throne at The ...  "
      ],
      "text/html": "<div>\n<style scoped>\n    .dataframe tbody tr th:only-of-type {\n        vertical-align: middle;\n    }\n\n    .dataframe tbody tr th {\n        vertical-align: top;\n    }\n\n    .dataframe thead th {\n        text-align: right;\n    }\n</style>\n<table border=\"1\" class=\"dataframe\">\n  <thead>\n    <tr style=\"text-align: right;\">\n      <th></th>\n      <th>TARGET</th>\n      <th>ALIGNMENT</th>\n      <th>EXPERIENCE</th>\n    </tr>\n  </thead>\n  <tbody>\n    <tr>\n      <th>0</th>\n      <td>Spider-Man</td>\n      <td>Good</td>\n      <td>Adventurer; inventor; photographer; teaching a...</td>\n    </tr>\n    <tr>\n      <th>1</th>\n      <td>Captain America</td>\n      <td>Good</td>\n      <td>Adventurer; federal official; intelligence ope...</td>\n    </tr>\n    <tr>\n      <th>2</th>\n      <td>Reed Richards</td>\n      <td>Good</td>\n      <td>Scientist; adventurer; ;  cosmic being</td>\n    </tr>\n    <tr>\n      <th>3</th>\n      <td>Jonathan Storm</td>\n      <td>Good</td>\n      <td>Adventurer; firefighter; Chief Financial Offic...</td>\n    </tr>\n    <tr>\n      <th>4</th>\n      <td>Susan Storm</td>\n      <td>Good</td>\n      <td>Adventurer; Regent of the Uhari throne at The ...</td>\n    </tr>\n  </tbody>\n</table>\n</div>"
     },
     "metadata": {},
     "execution_count": 39
    }
   ],
   "source": [
    "df = df[['TARGET','ALIGNMENT','EXPERIENCE']]\n",
    "df.head()"
   ]
  },
  {
   "cell_type": "code",
   "execution_count": 52,
   "metadata": {},
   "outputs": [
    {
     "output_type": "execute_result",
     "data": {
      "text/plain": [
       "             TARGET ALIGNMENT  \\\n",
       "0       Spider-Man       Good   \n",
       "1  Captain America       Good   \n",
       "2     Reed Richards      Good   \n",
       "3    Jonathan Storm      Good   \n",
       "4       Susan Storm      Good   \n",
       "\n",
       "                                          EXPERIENCE  \n",
       "0  Adventurer; inventor; photographer; teaching a...  \n",
       "1  Adventurer; federal official; intelligence ope...  \n",
       "2             Scientist; adventurer; ;  cosmic being  \n",
       "3  Adventurer; firefighter; Chief Financial Offic...  \n",
       "4  Adventurer; Regent of the Uhari throne at The ...  "
      ],
      "text/html": "<div>\n<style scoped>\n    .dataframe tbody tr th:only-of-type {\n        vertical-align: middle;\n    }\n\n    .dataframe tbody tr th {\n        vertical-align: top;\n    }\n\n    .dataframe thead th {\n        text-align: right;\n    }\n</style>\n<table border=\"1\" class=\"dataframe\">\n  <thead>\n    <tr style=\"text-align: right;\">\n      <th></th>\n      <th>TARGET</th>\n      <th>ALIGNMENT</th>\n      <th>EXPERIENCE</th>\n    </tr>\n  </thead>\n  <tbody>\n    <tr>\n      <th>0</th>\n      <td>Spider-Man</td>\n      <td>Good</td>\n      <td>Adventurer; inventor; photographer; teaching a...</td>\n    </tr>\n    <tr>\n      <th>1</th>\n      <td>Captain America</td>\n      <td>Good</td>\n      <td>Adventurer; federal official; intelligence ope...</td>\n    </tr>\n    <tr>\n      <th>2</th>\n      <td>Reed Richards</td>\n      <td>Good</td>\n      <td>Scientist; adventurer; ;  cosmic being</td>\n    </tr>\n    <tr>\n      <th>3</th>\n      <td>Jonathan Storm</td>\n      <td>Good</td>\n      <td>Adventurer; firefighter; Chief Financial Offic...</td>\n    </tr>\n    <tr>\n      <th>4</th>\n      <td>Susan Storm</td>\n      <td>Good</td>\n      <td>Adventurer; Regent of the Uhari throne at The ...</td>\n    </tr>\n  </tbody>\n</table>\n</div>"
     },
     "metadata": {},
     "execution_count": 52
    }
   ],
   "source": [
    "for strings in df['EXPERIENCE']:\n",
    "    df['EXPERIENCE'].str.replace('\"', '')\n",
    "df.head()"
   ]
  },
  {
   "cell_type": "code",
   "execution_count": 40,
   "metadata": {},
   "outputs": [],
   "source": [
    "alliance = [\"Good\",\"Neutral\",\"Bad\"]"
   ]
  },
  {
   "cell_type": "code",
   "execution_count": 46,
   "metadata": {},
   "outputs": [
    {
     "output_type": "execute_result",
     "data": {
      "text/plain": [
       "0       Adventurer; inventor; photographer; teaching a...\n",
       "1       Adventurer; federal official; intelligence ope...\n",
       "2                  Scientist; adventurer; ;  cosmic being\n",
       "3       Adventurer; firefighter; Chief Financial Offic...\n",
       "4       Adventurer; Regent of the Uhari throne at The ...\n",
       "                              ...                        \n",
       "1027                         Nuclear Scientist ; Janitor \n",
       "1028                                Houngan ; cult leader\n",
       "1029                          Vigilante;  Army lieutenant\n",
       "1030                                                Thief\n",
       "1031                                        Fashion Model\n",
       "Name: EXPERIENCE, Length: 1032, dtype: object"
      ]
     },
     "metadata": {},
     "execution_count": 46
    }
   ],
   "source": [
    "df_dict = {}\n",
    "for alignment in alliance:\n",
    "    df_dict[alignment]=df[\"EXPERIENCE\"]\n",
    "    time.sleep(1)\n",
    "df_dict[\"Good\"]"
   ]
  },
  {
   "cell_type": "code",
   "execution_count": 48,
   "metadata": {},
   "outputs": [
    {
     "output_type": "error",
     "ename": "KeyError",
     "evalue": "'EXPERIENCE'",
     "traceback": [
      "\u001b[0;31m---------------------------------------------------------------------------\u001b[0m",
      "\u001b[0;31mKeyError\u001b[0m                                  Traceback (most recent call last)",
      "\u001b[0;32m<ipython-input-48-176e3dba9ad4>\u001b[0m in \u001b[0;36m<module>\u001b[0;34m\u001b[0m\n\u001b[1;32m      1\u001b[0m \u001b[0;32mfor\u001b[0m \u001b[0malignment\u001b[0m \u001b[0;32min\u001b[0m \u001b[0malliance\u001b[0m\u001b[0;34m:\u001b[0m\u001b[0;34m\u001b[0m\u001b[0;34m\u001b[0m\u001b[0m\n\u001b[0;32m----> 2\u001b[0;31m     \u001b[0mdf_dict\u001b[0m\u001b[0;34m[\u001b[0m\u001b[0malignment\u001b[0m\u001b[0;34m]\u001b[0m\u001b[0;34m[\u001b[0m\u001b[0;34m\"EXPERIENCE\"\u001b[0m\u001b[0;34m]\u001b[0m \u001b[0;34m=\u001b[0m \u001b[0mdf_dict\u001b[0m\u001b[0;34m[\u001b[0m\u001b[0malignment\u001b[0m\u001b[0;34m]\u001b[0m\u001b[0;34m[\u001b[0m\u001b[0;34m\"EXPERIENCE\"\u001b[0m\u001b[0;34m]\u001b[0m\u001b[0;34m.\u001b[0m\u001b[0mstr\u001b[0m\u001b[0;34m.\u001b[0m\u001b[0mreplace\u001b[0m\u001b[0;34m(\u001b[0m\u001b[0;34m'\"'\u001b[0m\u001b[0;34m,\u001b[0m\u001b[0;34m''\u001b[0m\u001b[0;34m)\u001b[0m\u001b[0;34m\u001b[0m\u001b[0;34m\u001b[0m\u001b[0m\n\u001b[0m\u001b[1;32m      3\u001b[0m \u001b[0mdf_dict\u001b[0m\u001b[0;34m[\u001b[0m\u001b[0;34m\"Good\"\u001b[0m\u001b[0;34m]\u001b[0m\u001b[0;34m\u001b[0m\u001b[0;34m\u001b[0m\u001b[0m\n",
      "\u001b[0;32m/opt/anaconda3/lib/python3.8/site-packages/pandas/core/series.py\u001b[0m in \u001b[0;36m__getitem__\u001b[0;34m(self, key)\u001b[0m\n\u001b[1;32m    880\u001b[0m \u001b[0;34m\u001b[0m\u001b[0m\n\u001b[1;32m    881\u001b[0m         \u001b[0;32melif\u001b[0m \u001b[0mkey_is_scalar\u001b[0m\u001b[0;34m:\u001b[0m\u001b[0;34m\u001b[0m\u001b[0;34m\u001b[0m\u001b[0m\n\u001b[0;32m--> 882\u001b[0;31m             \u001b[0;32mreturn\u001b[0m \u001b[0mself\u001b[0m\u001b[0;34m.\u001b[0m\u001b[0m_get_value\u001b[0m\u001b[0;34m(\u001b[0m\u001b[0mkey\u001b[0m\u001b[0;34m)\u001b[0m\u001b[0;34m\u001b[0m\u001b[0;34m\u001b[0m\u001b[0m\n\u001b[0m\u001b[1;32m    883\u001b[0m \u001b[0;34m\u001b[0m\u001b[0m\n\u001b[1;32m    884\u001b[0m         \u001b[0;32mif\u001b[0m \u001b[0mis_hashable\u001b[0m\u001b[0;34m(\u001b[0m\u001b[0mkey\u001b[0m\u001b[0;34m)\u001b[0m\u001b[0;34m:\u001b[0m\u001b[0;34m\u001b[0m\u001b[0;34m\u001b[0m\u001b[0m\n",
      "\u001b[0;32m/opt/anaconda3/lib/python3.8/site-packages/pandas/core/series.py\u001b[0m in \u001b[0;36m_get_value\u001b[0;34m(self, label, takeable)\u001b[0m\n\u001b[1;32m    987\u001b[0m \u001b[0;34m\u001b[0m\u001b[0m\n\u001b[1;32m    988\u001b[0m         \u001b[0;31m# Similar to Index.get_value, but we do not fall back to positional\u001b[0m\u001b[0;34m\u001b[0m\u001b[0;34m\u001b[0m\u001b[0;34m\u001b[0m\u001b[0m\n\u001b[0;32m--> 989\u001b[0;31m         \u001b[0mloc\u001b[0m \u001b[0;34m=\u001b[0m \u001b[0mself\u001b[0m\u001b[0;34m.\u001b[0m\u001b[0mindex\u001b[0m\u001b[0;34m.\u001b[0m\u001b[0mget_loc\u001b[0m\u001b[0;34m(\u001b[0m\u001b[0mlabel\u001b[0m\u001b[0;34m)\u001b[0m\u001b[0;34m\u001b[0m\u001b[0;34m\u001b[0m\u001b[0m\n\u001b[0m\u001b[1;32m    990\u001b[0m         \u001b[0;32mreturn\u001b[0m \u001b[0mself\u001b[0m\u001b[0;34m.\u001b[0m\u001b[0mindex\u001b[0m\u001b[0;34m.\u001b[0m\u001b[0m_get_values_for_loc\u001b[0m\u001b[0;34m(\u001b[0m\u001b[0mself\u001b[0m\u001b[0;34m,\u001b[0m \u001b[0mloc\u001b[0m\u001b[0;34m,\u001b[0m \u001b[0mlabel\u001b[0m\u001b[0;34m)\u001b[0m\u001b[0;34m\u001b[0m\u001b[0;34m\u001b[0m\u001b[0m\n\u001b[1;32m    991\u001b[0m \u001b[0;34m\u001b[0m\u001b[0m\n",
      "\u001b[0;32m/opt/anaconda3/lib/python3.8/site-packages/pandas/core/indexes/range.py\u001b[0m in \u001b[0;36mget_loc\u001b[0;34m(self, key, method, tolerance)\u001b[0m\n\u001b[1;32m    356\u001b[0m                 \u001b[0;32mexcept\u001b[0m \u001b[0mValueError\u001b[0m \u001b[0;32mas\u001b[0m \u001b[0merr\u001b[0m\u001b[0;34m:\u001b[0m\u001b[0;34m\u001b[0m\u001b[0;34m\u001b[0m\u001b[0m\n\u001b[1;32m    357\u001b[0m                     \u001b[0;32mraise\u001b[0m \u001b[0mKeyError\u001b[0m\u001b[0;34m(\u001b[0m\u001b[0mkey\u001b[0m\u001b[0;34m)\u001b[0m \u001b[0;32mfrom\u001b[0m \u001b[0merr\u001b[0m\u001b[0;34m\u001b[0m\u001b[0;34m\u001b[0m\u001b[0m\n\u001b[0;32m--> 358\u001b[0;31m             \u001b[0;32mraise\u001b[0m \u001b[0mKeyError\u001b[0m\u001b[0;34m(\u001b[0m\u001b[0mkey\u001b[0m\u001b[0;34m)\u001b[0m\u001b[0;34m\u001b[0m\u001b[0;34m\u001b[0m\u001b[0m\n\u001b[0m\u001b[1;32m    359\u001b[0m         \u001b[0;32mreturn\u001b[0m \u001b[0msuper\u001b[0m\u001b[0;34m(\u001b[0m\u001b[0;34m)\u001b[0m\u001b[0;34m.\u001b[0m\u001b[0mget_loc\u001b[0m\u001b[0;34m(\u001b[0m\u001b[0mkey\u001b[0m\u001b[0;34m,\u001b[0m \u001b[0mmethod\u001b[0m\u001b[0;34m=\u001b[0m\u001b[0mmethod\u001b[0m\u001b[0;34m,\u001b[0m \u001b[0mtolerance\u001b[0m\u001b[0;34m=\u001b[0m\u001b[0mtolerance\u001b[0m\u001b[0;34m)\u001b[0m\u001b[0;34m\u001b[0m\u001b[0;34m\u001b[0m\u001b[0m\n\u001b[1;32m    360\u001b[0m \u001b[0;34m\u001b[0m\u001b[0m\n",
      "\u001b[0;31mKeyError\u001b[0m: 'EXPERIENCE'"
     ]
    }
   ],
   "source": [
    "for alignment in alliance:\n",
    "    df_dict[alignment][\"EXPERIENCE\"] = df_dict[alignment][\"EXPERIENCE\"].str.replace('\"','')\n",
    "df_dict[\"Good\"]"
   ]
  },
  {
   "cell_type": "code",
   "execution_count": null,
   "metadata": {},
   "outputs": [],
   "source": [
    "#function to join and tokenize words in experience column of each dataframe\n",
    "def clean_tokens(data):\n",
    "    words = \";\".join(data)\n",
    "    tokens = word_tokenize(words)\n",
    "    tokens = [t.lower() for t in tokens]\n",
    "    #tokens = [t for t in tokens if t not in stopwords.words('english')]\n",
    "    tokens = [t for t in tokens if t.isalpha()]\n",
    "    lemmatizer = WordNetLemmatizer()\n",
    "    tokens = [lemmatizer.lemmatize(t) for t in tokens]\n",
    "    return tokens "
   ]
  },
  {
   "cell_type": "code",
   "execution_count": null,
   "metadata": {},
   "outputs": [],
   "source": [
    "good_tokens = clean_tokens(good_df['EXPERIENCE'])\n",
    "good_tokens"
   ]
  },
  {
   "cell_type": "code",
   "execution_count": null,
   "metadata": {},
   "outputs": [],
   "source": [
    "good_xp = ';'.join(good_tokens)\n",
    "good_mask = np.array(Image.open('../Resources/Images/good_mask.png'))"
   ]
  },
  {
   "cell_type": "code",
   "execution_count": null,
   "metadata": {},
   "outputs": [],
   "source": [
    "good_word_cloud = WordCloud(\n",
    "    background_color='white',\n",
    "    max_words=1000,\n",
    "    mask=good_mask,\n",
    "    colormap='nipy_spectral_r',\n",
    "    contour_width=1\n",
    ").generate(good_xp)\n",
    "plt.figure(figsize=(16,9))\n",
    "plt.axis('off')\n",
    "plt.imshow(good_word_cloud)"
   ]
  },
  {
   "cell_type": "code",
   "execution_count": null,
   "metadata": {},
   "outputs": [],
   "source": [
    "spider_logo = np.array(Image.open('../Resources/Images/spider_logo.png'))\n",
    "def Marvelwordcloud(data, title = None):\n",
    "    wordcloud = WordCloud(\n",
    "        background_color='white',\n",
    "        stopwords=stopwords,\n",
    "        mask=spider_logo,\n",
    "        max_words=500,\n",
    "        max_font_size=70,\n",
    "        scale=3,\n",
    "        random_state=1\n",
    "    ).generate(str(data))\n",
    "    image_colors = ImageColorGenerator(spider_logo)\n",
    "    wordcloud.recolor(color_func=image_colors)\n",
    "    fig = plt.figure(1, figsize=(20,20))\n",
    "    plt.axis('off')\n",
    "    if title:\n",
    "        fig.suptitle(title, fontsize=20)\n",
    "        fig.subplots_adjust(top=2.3)\n",
    "\n",
    "    plt.imshow(wordcloud)\n",
    "    plt.show()"
   ]
  },
  {
   "cell_type": "code",
   "execution_count": null,
   "metadata": {},
   "outputs": [],
   "source": [
    "Marvelwordcloud(good_df[\"EXPERIENCE\"].dropna())"
   ]
  },
  {
   "cell_type": "code",
   "execution_count": null,
   "metadata": {},
   "outputs": [],
   "source": [
    "Marvelwordcloud(neutral_df[\"EXPERIENCE\"].dropna())"
   ]
  },
  {
   "cell_type": "code",
   "execution_count": null,
   "metadata": {},
   "outputs": [],
   "source": [
    "Marvelwordcloud(bad_df[\"EXPERIENCE\"].dropna())"
   ]
  },
  {
   "cell_type": "code",
   "execution_count": null,
   "metadata": {},
   "outputs": [],
   "source": []
  }
 ]
}